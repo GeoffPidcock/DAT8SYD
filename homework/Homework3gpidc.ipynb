{
 "cells": [
  {
   "cell_type": "markdown",
   "metadata": {},
   "source": [
    "# SYD DAT 8 Homework 3 - Visualisation and Regression\n",
    "\n",
    "## Homework - Due Friday 14th July - Midnight\n",
    "\n",
    "#### Communication\n",
    "Pick one data science topic that interests you, could be an article, or how a Kaggle competition was won, or an article incorporating data journalism. Write a 3 minute presentation with 3 slides. You should explain, what was done, the motivation behind it, the results and what you can think of that would improve the project.\n",
    "\n",
    "We will present these in class on Tuesday 18th July and Thursday 20th July to practice presentation skills.\n",
    "\n",
    "Direct message me over Slack with the slides on Monday 17th July so I can put the class slides together.\n",
    "\n",
    "#### Course Project\n",
    "Share with a me a ipython notebook containing the following:\n",
    "* Data read into python in a data frame\n",
    "* A statistical summary of your data\n",
    "* A visualisation of your data\n",
    "* One of the following with your data; Linear or Logistic Regression (with regularization), or Clustering.\n",
    "* A written summary at the end describing your data\n",
    "\n",
    "**Instructions: Send me the slides on Monday 17th July and have the notebook in your project repository by 14th July**"
   ]
  },
  {
   "cell_type": "markdown",
   "metadata": {
    "collapsed": true
   },
   "source": [
    "## Communication\n",
    "**Completed Slides:** <br>\n",
    "http://bit.ly/2uYOWYD <br>\n",
    "<br>\n",
    "**Source:**\n",
    "1. Lead Qualifier Repo: <br> https://github.com/xeneta/LeadQualifier <br>\n",
    "2. Medium Article: \"Boosting Sales with Machine Learning\": <br>\n",
    "https://medium.com/xeneta/boosting-sales-with-machine-learning-fbcf2e618be3\n",
    "\n"
   ]
  },
  {
   "cell_type": "markdown",
   "metadata": {},
   "source": [
    "## Course Project\n",
    "Shared in https://github.com/GeoffPidcock/Tradeshow <br>\n",
    "TradeShow_HomeWork3.ipynb"
   ]
  },
  {
   "cell_type": "markdown",
   "metadata": {},
   "source": [
    "### Communication Appendix:\n",
    "Notes from fead of blog/medium post: <br>\n",
    "Pain - looking at big excel sheets of names to go after. <br> \"Prequalification of Sales Leads\". / Company or Lead profiling. <br> \n",
    "Broad customer base. <br>\n",
    "Hypothesis was that a company description could reliably highlight prospects. <br>\n",
    "**Development involved** <br> \n",
    "1. importing company urls and descriptions from \"FullContact\" - meant that you'd need to have the URL of a given target.\n",
    "2. creating a training dataset with 1000 qualified companies and 1000 disqualified companies (up-front human investment)\n",
    "3. cleaning the descriptions and undertaking NLP on them - stemming, removing stops, transforming using Bag of Words, and then using term frequency inverse document frequency transformation. \n",
    "<br>\n",
    "**Modelling involved** <br>\n",
    "1. Random Forests\n",
    "2. K Nearest Neighbours\n",
    "Where tuning involved tweaking the vocabulary, size of phrases, and amount of estimators. \n",
    "<br>\n",
    "**Results**\n",
    "86.4% accuracy - \"actually becomming useful for our Sales Team\".<br>\n",
    "\n",
    "**Future work**\n",
    "1. Addressing sampling bias through obtaining more data\n",
    "2. Test other types of word transformations (like word2vec)\n",
    "3. Applying other ML algorithms. \n",
    "4. Looking into Kaggle competitions - \"Search Relevance\"\n",
    "\n",
    "****\n",
    "\n",
    "Some interesting thinking: \n",
    "http://www.brandquarterly.com/data-analytics-changing-game-event-marketing (etouches product placement)\n",
    "General biz posting: \n",
    "https://www.linkedin.com/pulse/make-your-sdr-team-more-predictable-trade-show-season-matt-amundson\n",
    "Lead scoring overview:\n",
    "https://www.madkudu.com/blog/tag/data-science/\n",
    "Example of a nifty looking decision tree:\n",
    "http://dataconomy.com/2015/05/predictive-machine-learning-behind-the-scenes-at-fliptop-and-predictions-for-the-future-of-martech/\n",
    "What of the Xeneta Lead Qualifier?\n",
    "https://github.com/xeneta/LeadQualifier\n",
    "Click bait, but in python:\n",
    "https://www.analyticsvidhya.com/blog/2015/09/build-predictive-model-10-minutes-python/\n",
    "Something on Tradeshows:\n",
    "https://books.google.com.au/books?id=xYVHAAAAQBAJ&pg=PR19&lpg=PR19&dq=Tradeshow+propensity+to+buy&source=bl&ots=cjs54gI8_J&sig=WWTWcUbXWFbX7WXrePigJWBB51s&hl=en&sa=X&ved=0ahUKEwjAmrXFmoHVAhXEjpQKHZswAD8Q6AEILjAB#v=onepage&q=Tradeshow%20propensity%20to%20buy&f=false\n",
    "Exponential decay... - key feature is speed to call!"
   ]
  }
 ],
 "metadata": {
  "kernelspec": {
   "display_name": "Python 3",
   "language": "python",
   "name": "python3"
  },
  "language_info": {
   "codemirror_mode": {
    "name": "ipython",
    "version": 3
   },
   "file_extension": ".py",
   "mimetype": "text/x-python",
   "name": "python",
   "nbconvert_exporter": "python",
   "pygments_lexer": "ipython3",
   "version": "3.6.0"
  }
 },
 "nbformat": 4,
 "nbformat_minor": 0
}
