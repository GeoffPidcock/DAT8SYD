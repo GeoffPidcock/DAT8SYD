{
 "cells": [
  {
   "cell_type": "markdown",
   "metadata": {},
   "source": [
    "# SYD DAT 8 Homework 2 - Visualisation and Regression\n",
    "\n",
    "## Homework - Due Friday 30th June\n",
    "\n",
    "#### Setup\n",
    "* Signup for an AWS account\n",
    "\n",
    "#### Communication\n",
    "* Imagine you are trying to explain to someone what Linear Regression is - but they have no programming/maths experience? How would you explain the overall process, what a p-value means and what R-Squared means?\n",
    "* Read the paper [Useful things to know about machine learning]( https://homes.cs.washington.edu/~pedrod/papers/cacm12.pdf). \n",
    "    * What have we covered so far from this paper? \n",
    "    * Explain sections 6-13 in your own words\n",
    "\n",
    "#### Machine Learning\n",
    "* Describe 3 ways we can select what features to use in a model\n",
    "* Complete the first 3 exercises from Chapter 3 of Introduction to Statistical Learning in Python\n",
    "\n",
    "#### Course Project\n",
    "* For the following setup a new github repository for your project and share it with Alasdair and Ian over Slack.\n",
    "* Load the data you have gathered for your project into Python and run some summary statistics over the data. Are there any interesting features of the data that jump out? (Include the code)\n",
    "* Draft/Sketch (or wireframe) some data visualisations that would be useful for you to explore your data set\n",
    "* Are there any regresion or clustering techniques you could use in your project? Write them down (with the corresponding scikit learn function) and what you think you would get out of it. Try it out if you get a chance.\n",
    "\n",
    "\n",
    "**Instructions: copy this file and append your name in the filename, e.g. Homework2_ian_hansel.ipynb.\n",
    "Then commit this in your local repository, push it to your github account and create a pull request so I can see your work. Remeber if you get stuck to look at the slides going over Fork, Clone, Commit, Push and Pull request.**"
   ]
  },
  {
   "cell_type": "markdown",
   "metadata": {},
   "source": [
    "### Setup\n",
    "#### Sign up for an AWS Account\n",
    "https://us-east-2.console.aws.amazon.com/console/home?region=us-east-2#\n",
    "Account id: 511004532925\n",
    "\n",
    "#### Sign up for a Google Cloud Account\n",
    "https://console.cloud.google.com/home/dashboard?project=vernal-buffer-172320\n",
    "Project ID: vernal-buffer-172320\n",
    "No. 1079400889046"
   ]
  },
  {
   "cell_type": "markdown",
   "metadata": {
    "collapsed": true
   },
   "source": [
    "### Communication"
   ]
  },
  {
   "cell_type": "markdown",
   "metadata": {},
   "source": [
    "#### Plain English Linear Regression"
   ]
  },
  {
   "cell_type": "code",
   "execution_count": null,
   "metadata": {
    "collapsed": true
   },
   "outputs": [],
   "source": [
    "Imagine we have a distribution of points (XYZ blah blah blah)\n"
   ]
  },
  {
   "cell_type": "markdown",
   "metadata": {},
   "source": [
    "#### Reading: Useful things to know about machine learning\n",
    "**What have we covered?**\n",
    "Most concepts of sections 1 and 2, arranged in a novel taxonomy of Table 1. <br>Great reinforcement of \"Generalization\" being the end goal in section 3, and holdouts being mandatory (hope I'm never in the situation of using test data to tune an algorithm).<br>\n",
    "Some really novel abstractions in section 4 - like relating this all back to induction, and how some assumptions (like smoothing) in practice can act as a lever transforming a small amount of input knowledge into a large amount of output knowledge... <br>\n",
    "\n",
    "QUOTE?  \"Programming, like all engineering, is a lot of work:\n",
    "we have to build everything from scratch. Learning is more\n",
    "like farming, which lets nature do most of the work. Farmers\n",
    "combine seeds with nutrients to grow crops. Learners\n",
    "combine knowledge with data to grow programs\"\n",
    "\n",
    "We have also covered overfitting and the bias variance trade-off - \n",
    "Overfitting as hallucination - \"encoding random quirks of the data\".\n",
    "Bias - Tendancy to consistently learn the same wrong thing.\n",
    "Variance - Tendency to learn random things irrespective of the signal.\n",
    "No free lunch - easy to avoid overfitting (variance) by falling into the opposite error of underfitting (bias). Simultaneously avoiding both requires a perfect classifier - short of knowing in advance, there is no single technique that will always do best (so no free lunch).\n",
    "\n",
    "False discovery rate - multiple testing - worth exploring further (along with concepts of power).\n",
    "\n",
    "**Section 6 Summary**\n",
    "*Intuition fails in high dimensions* <br> \n",
    "A large number of features introduce the following challenges to modelling:\n",
    "1. as the number of features increase, the less input space a given training will cover, and the more the model will need to generalize. \n",
    "2. The more features there are, the more likely there are irrelevant features that introduce noise to the model. \n",
    "3. The more features there are, the more alike a sample looks like (choice of nearest neighbours becomes random). \n",
    "4. Our intuitions apply to three dimensions, and we are lost in high dimensions.\n",
    "Some of these issues can be counteracted by non-uniformity in a sample's distribution, or through using processing techniques that reduce the number of dimensions (i.e. PCA).\n",
    "The take home is that adding new features is 'not harmless' and can introduce real complications in machine learning.\n",
    "\n",
    "**Section 7 Summary**\n",
    "*Theoretical guarantees are not what they seem*\n",
    "Research is full of guarantees, like the number of samples needed for generalization. \n",
    "But machine learning is induction, and historically induction has been known as a far riskier way to knowledge than other reasoning methods like deduction.\n",
    "Furthermore these guarantees at times argue for more samples than needed in practice.\n",
    "So these guarantees are not useful practically - they act more as tools for research.\n",
    "<color=red> Buyer beware: Just because a learner has a theoretical justification and works in practice doesn't mean the theory is important for the practice </color>\n",
    "\n",
    "**Section 8 Summary**\n",
    "*Feature Engineering is the Key*\n",
    "The most important difference between a successful and failed ML project is the features used.\n",
    "1. Most effort in a typical project goes into data wrangling - it's the bit that's domain specific, and hasn't been engineered (unlike the learners).\n",
    "2. ML tends to be an interative process of running the learning, analyzing the results, modifying the data and the learner, and repeating. \n",
    "3. Features tend to be domain specific, may be material in combination, and may introduce resource cost or risks of overfitting.\n",
    "\n",
    "\n",
    "**Section 9 Summary**\n",
    "*More Data beats a cleverer algorithm*\n",
    "Machine learning is all about letting data do the heavy lifting in designing an algorithm.\n",
    "The rule of thumb is - a dumb algorithm with lots of data will beat a clever algorithm with modest amounts of it. So try the simplest learners first (naive Bayes before logistic, k-nearest neighbor before support vector machines)\n",
    "Machine Learning has three limited resources to juggle - time, memory, and training data. Today, time is the bottle-neck - mountains of data are available, but there isn't enough time to process it, so it goes unused. And in terms of time, HUman Cycles, not CPU Cycles, is the key bottle-neck. Complex classifiers can take too long to learn.\n",
    "\"All learners essentially work by grouping nearby examples into the same class - the key difference is NEARBY\".\n",
    "\n",
    "Human effort saved and insight gained...\n",
    "\n",
    "**Section 10 Summary**\n",
    "*Learn many models - not just one*\n",
    "Old models used to involve one learner. THese days models involve ensembles.\n",
    "Reeduce the variance with a slight increase in bias.\n",
    "Bagging - combine the results and pick by voting.\n",
    "Boosting - training examples have weights which are varied so that each new classifier focuses on the examples that the previous ones tended to get wrong.\n",
    "Winner and runner up of Netflix prize had ensembles of over 100 learners.\n",
    "\n",
    "**Section 11 Summary**\n",
    "*Simplicity does not imply accuracy*\n",
    "Given 2 models of similar training accuracy, the simpler of the two will not have lower test accuracy - there is no free lunch.\n",
    "\n",
    "**Section 12 Summary**\n",
    "*Representable does not imply learnable*\n",
    "Lots of jargon here - representation roughly matches the features, target, and algorithm applied to the data.\n",
    "This section may be trying to warn against becoming too attached to one representation (i.e. always using random forests).\n",
    "\n",
    "**Section 13 Summary**\n",
    "*Correlation does not imply causation*\n",
    "Yep. Suppose it needed a mention for compleness.\n",
    "Nice distinction raised - most learners are applied to observational data, where the variables are not under control by the learner, unlike experimental data.\n",
    "So the outcome is always a correlation, that needs further investigation or experimentation to confirm into a causation.\n"
   ]
  },
  {
   "cell_type": "markdown",
   "metadata": {},
   "source": [
    "### Machine Learning\n",
    "#### Three ways to select features"
   ]
  },
  {
   "cell_type": "markdown",
   "metadata": {},
   "source": [
    "Three ways to select features include: <br>\n",
    "    1. Applying your deep knowledge of the problem domain \n",
    "    2. Selecting features based on Chi squared/information gain/correlation coefficients\n",
    "    3. Using regularization methods that bias the model to less features/complexity during its construction\n",
    "        a. LASSO\n",
    "        b. Elastic Net\n",
    "        c. Ridge Regression\n"
   ]
  },
  {
   "cell_type": "markdown",
   "metadata": {},
   "source": [
    "#### ISLR Chapter 3 Exercise 1-3 in Python!"
   ]
  },
  {
   "cell_type": "markdown",
   "metadata": {},
   "source": [
    "##### Questions\n",
    "1. Describe the null hypotheses to which the p-values given in Table 3.4 correspond. Explain what conclusions you can draw based on these p-values. Your explanation should be phrased in terms of sales, TV, radio, and newspaper, rather than in terms of the coefficients of the linear model.\n",
    "2. Carefully explain the differences between the KNN classifier and KNN regression methods.\n",
    "3. Suppose we have a data set with five predictors, X1 = GPA, X2 = IQ, X3 = Gender (1 for Female and 0 for Male), X4 = Interaction between GPA and IQ, and X5 = Interaction between GPA and Gender. The response is starting salary after graduation (in thousands of dollars). Suppose we use least squares to fit the model, and get βˆ0 = 50, βˆ1 = 2 0 , βˆ 2 = 0 . 0 7 , βˆ 3 = 3 5 , βˆ 4 = 0 . 0 1 , βˆ 5 = − 1 0 . <br>\n",
    "a) Which answer is correct, and why? <br>\n",
    "    i. For a fixed value of IQ and GPA ,males earn more on average than females <br>\n",
    "    ii. For a fixed value of IQ and GPA, females earn more on average than males. <br>\n",
    "    iii. ForafixedvalueofIQandGPA,malesearnmoreonaverage than females provided that the GPA is high enough. <br>\n",
    "    iv. For a fixed value of IQ and GPA, females earn more on average than males provided that the GPA is high enough. <br>\n",
    "(b) Predict the salary of a female with IQ of 110 and a GPA of 4.0. <br>\n",
    "(c) True or false: Since the coefficient for the GPA/IQ interaction term is very small, there is very little evidence of an interaction effect. Justify your answer.\n"
   ]
  },
  {
   "cell_type": "code",
   "execution_count": null,
   "metadata": {
    "collapsed": true
   },
   "outputs": [],
   "source": []
  },
  {
   "cell_type": "markdown",
   "metadata": {},
   "source": [
    "### Course Project"
   ]
  },
  {
   "cell_type": "markdown",
   "metadata": {},
   "source": [
    "#### Instructions\n",
    "**Course Project**\n",
    "For the following setup a new github repository for your project and share it with Alasdair and Ian over Slack.\n",
    "Load the data you have gathered for your project into Python and run some summary statistics over the data. Are there any interesting features of the data that jump out? (Include the code)\n",
    "Draft/Sketch (or wireframe) some data visualisations that would be useful for you to explore your data set\n",
    "Are there any regresion or clustering techniques you could use in your project? Write them down (with the corresponding scikit learn function) and what you think you would get out of it. Try it out if you get a chance."
   ]
  },
  {
   "cell_type": "markdown",
   "metadata": {},
   "source": [
    "#### Github Repo Details\n",
    "github.com/GeoffPidcock/Tradeshow"
   ]
  }
 ],
 "metadata": {
  "kernelspec": {
   "display_name": "Python 3",
   "language": "python",
   "name": "python3"
  },
  "language_info": {
   "codemirror_mode": {
    "name": "ipython",
    "version": 3
   },
   "file_extension": ".py",
   "mimetype": "text/x-python",
   "name": "python",
   "nbconvert_exporter": "python",
   "pygments_lexer": "ipython3",
   "version": "3.6.0"
  }
 },
 "nbformat": 4,
 "nbformat_minor": 0
}
