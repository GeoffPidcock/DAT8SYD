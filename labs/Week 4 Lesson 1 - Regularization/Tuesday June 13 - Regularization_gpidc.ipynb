{
 "cells": [
  {
   "cell_type": "markdown",
   "metadata": {},
   "source": [
    "# Lab - Regularization\n",
    "\n",
    "## Week 4 Tuesday 11th June\n",
    "\n",
    "### TASK: Regularized regression\n",
    "### FUNCTIONS: Ridge, RidgeCV, Lasso, LassoCV\n",
    "### DOCUMENTATION: http://scikit-learn.org/stable/modules/linear_model.html\n",
    "### DATA: Crime (n=319 non-null, p=122, type=regression)\n",
    "### DATA DICTIONARY: http://archive.ics.uci.edu/ml/datasets/Communities+and+Crime\n",
    "\n",
    "This data set contains data on violent crimes within a community."
   ]
  },
  {
   "cell_type": "code",
   "execution_count": 2,
   "metadata": {
    "collapsed": false
   },
   "outputs": [
    {
     "name": "stdout",
     "output_type": "stream",
     "text": [
      "(319, 123)\n"
     ]
    }
   ],
   "source": [
    "########## Prepare data ##########\n",
    "# read in data, remove categorical features, remove rows with missing values\n",
    "import pandas as pd\n",
    "crime = pd.read_csv('http://archive.ics.uci.edu/ml/machine-learning-databases/communities/communities.data', header=None, na_values=['?'])\n",
    "crime = crime.iloc[:, 5:] # Stripping out descriptive features like county\n",
    "crime.dropna(inplace=True) # Dropping out missing values.\n",
    "crime.head()\n",
    "print(crime.shape)\n",
    "\n",
    "# define X and y\n",
    "X = crime.iloc[:, :-1]\n",
    "y = crime.iloc[:, -1] # last column is goal variable - violent crimes per 100K\n",
    "\n",
    "# split into train/test\n",
    "from sklearn.model_selection import train_test_split\n",
    "X_train, X_test, y_train, y_test = train_test_split(X, y, random_state=1)\n"
   ]
  },
  {
   "cell_type": "code",
   "execution_count": 3,
   "metadata": {
    "collapsed": false
   },
   "outputs": [
    {
     "data": {
      "text/plain": [
       "(319, 122)"
      ]
     },
     "execution_count": 3,
     "metadata": {},
     "output_type": "execute_result"
    }
   ],
   "source": [
    "# How many columns are in X?\n",
    "X.shape\n",
    "# 122 features."
   ]
  },
  {
   "cell_type": "code",
   "execution_count": 4,
   "metadata": {
    "collapsed": false
   },
   "outputs": [
    {
     "data": {
      "text/plain": [
       "array([ -3.66188167e+00,   6.98124465e-01,  -2.61955467e-01,\n",
       "        -2.85270027e-01,  -1.64740837e-01,   2.46972333e-01,\n",
       "        -1.09290051e+00,  -5.96857796e-01,   1.11200239e+00,\n",
       "        -7.21968931e-01,   4.27346598e+00,  -2.28040268e-01,\n",
       "         8.04875769e-01,  -2.57934732e-01,  -2.63458023e-01,\n",
       "        -1.04616958e+00,   6.07784197e-01,   7.73552561e-01,\n",
       "         5.96468029e-02,   6.90215922e-01,   2.16759430e-02,\n",
       "        -4.87802949e-01,  -5.18858404e-01,   1.39478815e-01,\n",
       "        -1.24417942e-01,   3.15003821e-01,  -1.52633736e-01,\n",
       "        -9.65003927e-01,   1.17142163e+00,  -3.08546690e-02,\n",
       "        -9.29085548e-01,   1.24654586e-01,   1.98104506e-01,\n",
       "         7.30804821e-01,  -1.77337294e-01,   8.32927588e-02,\n",
       "         3.46045601e-01,   5.01837338e-01,   1.57062958e+00,\n",
       "        -4.13478807e-01,   1.39350802e+00,  -3.49428114e+00,\n",
       "         7.09577818e-01,  -8.32141352e-01,  -1.39984927e+00,\n",
       "         1.02482840e+00,   2.13855006e-01,  -6.18937325e-01,\n",
       "         5.28954490e-01,   7.98294890e-02,   5.93688560e-02,\n",
       "        -1.68582667e-01,   7.31264051e-01,  -1.39635208e+00,\n",
       "         2.38507704e-01,   5.50621439e-01,  -5.61447867e-01,\n",
       "         6.18989764e-01,   2.55517024e+00,  -3.71769599e+00,\n",
       "         7.09191935e-01,   3.82041439e-01,   8.23752836e-01,\n",
       "        -1.67703547e+00,  -1.73150450e+00,   9.90120171e-01,\n",
       "        -5.72745697e-01,  -1.45877295e+00,   8.68032144e-01,\n",
       "         5.15959984e-01,   3.14453207e-02,   2.01869791e-01,\n",
       "         9.65291940e-02,   2.13034099e+00,  -6.95374423e-02,\n",
       "         4.62477023e-02,  -1.10565955e-02,  -1.34313780e-02,\n",
       "        -1.04515494e-01,  -8.76985171e-01,   4.26781907e-01,\n",
       "        -1.85405795e-01,  -8.16215517e-01,  -2.86596076e-01,\n",
       "        -1.56110708e-01,   1.76468580e+00,  -5.70163730e-01,\n",
       "        -7.54066704e-02,  -1.74212697e-01,  -8.89747220e-02,\n",
       "         2.26336403e-01,   1.38030073e+00,  -3.37304744e-01,\n",
       "        -2.57856611e-02,   8.91299188e-02,   3.49876793e-01,\n",
       "        -1.22428557e+00,  -3.67941205e+01,  -6.95699750e-01,\n",
       "         2.95269279e-01,  -1.48590316e-03,   2.34206416e-01,\n",
       "        -7.09533984e-03,   3.67152957e+01,  -8.90665109e-02,\n",
       "         3.79550678e-02,   3.19375782e-01,   4.60708905e-01,\n",
       "         1.41090069e-01,  -6.67017320e-01,  -2.59035245e-01,\n",
       "        -4.60600755e-04,  -1.51868232e-02,   7.54768410e-02,\n",
       "        -2.36105498e-03,  -1.50328233e-01,   1.85575558e-01,\n",
       "         6.31979224e-01,  -1.50253625e-01,   1.87638817e-02,\n",
       "        -3.38095851e-02,  -4.46104032e-01])"
      ]
     },
     "execution_count": 4,
     "metadata": {},
     "output_type": "execute_result"
    }
   ],
   "source": [
    "########## Linear Regression Model Without Regularization ##########\n",
    "# linear regression\n",
    "from sklearn.linear_model import LinearRegression\n",
    "lm = LinearRegression()\n",
    "lm.fit(X_train, y_train)\n",
    "lm.coef_\n",
    "# What are these numbers?\n",
    "# Gp - coefficient for every possible feature."
   ]
  },
  {
   "cell_type": "code",
   "execution_count": 5,
   "metadata": {
    "collapsed": false
   },
   "outputs": [
    {
     "name": "stdout",
     "output_type": "stream",
     "text": [
      "RMSE (no regularization) = 0.233813676495\n"
     ]
    }
   ],
   "source": [
    "# make predictions and evaluate\n",
    "import numpy as np\n",
    "from sklearn import metrics\n",
    "preds = lm.predict(X_test)\n",
    "print('RMSE (no regularization) =', np.sqrt(metrics.mean_squared_error(y_test, preds)))"
   ]
  },
  {
   "cell_type": "code",
   "execution_count": 8,
   "metadata": {
    "collapsed": false
   },
   "outputs": [
    {
     "name": "stdout",
     "output_type": "stream",
     "text": [
      "RMSE (Ridge reg.) = 0.164279068049\n"
     ]
    }
   ],
   "source": [
    "########## Ridge Regression Model ##########\n",
    "# ridge regression (alpha must be positive, larger means more regularization)\n",
    "from sklearn.linear_model import Ridge\n",
    "rreg = Ridge(alpha=0.1, normalize=True)\n",
    "rreg.fit(X_train, y_train)\n",
    "rreg.coef_\n",
    "preds = rreg.predict(X_test)\n",
    "print('RMSE (Ridge reg.) =', np.sqrt(metrics.mean_squared_error(y_test, preds)))\n",
    "# Is this model better? Why? \n",
    "# RMSE has lowered. Some variables have been removed that don't add information to the model.\n",
    "# If alpha is zero, this is equivalent to performing linear regression."
   ]
  },
  {
   "cell_type": "code",
   "execution_count": 9,
   "metadata": {
    "collapsed": false
   },
   "outputs": [
    {
     "name": "stdout",
     "output_type": "stream",
     "text": [
      "Optimal Alpha Value:  1.0\n",
      "RMSE (Ridge CV reg.) = 0.163129782343\n"
     ]
    }
   ],
   "source": [
    "# use RidgeCV to select best alpha\n",
    "# Very common procedure - ridge regression cross validation.\n",
    "from sklearn.linear_model import RidgeCV\n",
    "alpha_range = 10.**np.arange(-2, 3)\n",
    "rregcv = RidgeCV(normalize=True, scoring='neg_mean_squared_error', alphas=alpha_range)\n",
    "rregcv.fit(X_train, y_train)\n",
    "\n",
    "# Print the optimal value of Alpha for Ridge Regression\n",
    "print('Optimal Alpha Value: ', rregcv.alpha_)\n",
    "\n",
    "# Print the RMSE for the ridge regression model\n",
    "preds = rregcv.predict(X_test)\n",
    "print ('RMSE (Ridge CV reg.) =', np.sqrt(metrics.mean_squared_error(y_test, preds)))\n",
    "# What is the range of alpha values we are searching over?"
   ]
  },
  {
   "cell_type": "code",
   "execution_count": 11,
   "metadata": {
    "collapsed": false
   },
   "outputs": [
    {
     "name": "stdout",
     "output_type": "stream",
     "text": [
      "RMSE (Lasso reg.) = 0.160039024044\n"
     ]
    }
   ],
   "source": [
    "########## Lasso Regression Model ##########\n",
    "# lasso (alpha must be positive, larger means more regularization)\n",
    "from sklearn.linear_model import Lasso\n",
    "las = Lasso(alpha=0.001, normalize=True)\n",
    "las.fit(X_train, y_train)\n",
    "las.coef_\n",
    "preds = las.predict(X_test)\n",
    "print('RMSE (Lasso reg.) =', np.sqrt(metrics.mean_squared_error(y_test, preds)))\n",
    "# GP - commentary - RMSE is 0.2 at alpha 0.01, so try 0.001 to get a better error."
   ]
  },
  {
   "cell_type": "code",
   "execution_count": 12,
   "metadata": {
    "collapsed": false
   },
   "outputs": [
    {
     "name": "stdout",
     "output_type": "stream",
     "text": [
      "RMSE (Lasso reg.) = 0.164502413721\n"
     ]
    }
   ],
   "source": [
    "# try a smaller alpha\n",
    "las = Lasso(alpha=0.0001, normalize=True)\n",
    "las.fit(X_train, y_train)\n",
    "las.coef_\n",
    "preds = las.predict(X_test)\n",
    "print('RMSE (Lasso reg.) =', np.sqrt(metrics.mean_squared_error(y_test, preds)))\n",
    "\n",
    "# GP - Search range and step size is important in feature selection..."
   ]
  },
  {
   "cell_type": "code",
   "execution_count": 14,
   "metadata": {
    "collapsed": false
   },
   "outputs": [
    {
     "name": "stdout",
     "output_type": "stream",
     "text": [
      "Optimal Alpha Value:  0.001\n",
      "RMSE (Lasso CV reg.) = 0.160039024044\n"
     ]
    },
    {
     "name": "stderr",
     "output_type": "stream",
     "text": [
      "/Applications/anaconda/lib/python3.6/site-packages/sklearn/linear_model/coordinate_descent.py:484: ConvergenceWarning: Objective did not converge. You might want to increase the number of iterations. Fitting data with very small alpha may cause precision problems.\n",
      "  ConvergenceWarning)\n"
     ]
    }
   ],
   "source": [
    "# use LassoCV to select best alpha (tries 100 alphas by default)\n",
    "from sklearn.linear_model import LassoCV\n",
    "alpha_range = 10.**np.arange(-5, 3)\n",
    "lascv = LassoCV(normalize=True, alphas=alpha_range)\n",
    "\n",
    "# You can screw around with alpha_range - default range bottoms at 0.01.\n",
    "lascv.fit(X_train, y_train)\n",
    "print('Optimal Alpha Value: ',lascv.alpha_)\n",
    "lascv.coef_\n",
    "preds = lascv.predict(X_test)\n",
    "print('RMSE (Lasso CV reg.) =', np.sqrt(metrics.mean_squared_error(y_test, preds)))"
   ]
  },
  {
   "cell_type": "markdown",
   "metadata": {},
   "source": [
    "### Task 1: Carry out Elastic net regularised regression\n",
    "\n",
    "### Lookup [Elastic Net](http://scikit-learn.org/stable/modules/linear_model.html#elastic-net) and complete the following.\n",
    "\n",
    "\n",
    "\n",
    "1. What is elastic net?\n",
    "2. How does it work?\n",
    "3. Run elastic net on the above dataset"
   ]
  },
  {
   "cell_type": "code",
   "execution_count": 15,
   "metadata": {
    "collapsed": false
   },
   "outputs": [
    {
     "data": {
      "text/plain": [
       "'\\nElastic Net is another great model to leverage in real life\\nRESEARCH\\n1. Another method of regularization. It combines some of the advantages of\\n\\n'"
      ]
     },
     "execution_count": 15,
     "metadata": {},
     "output_type": "execute_result"
    }
   ],
   "source": [
    "'''\n",
    "Elastic Net is a great tool to leverage in real life\n",
    "\n",
    "1. Elastic Net is another method of regularization. \n",
    "It combines some of the advantages of ridge regression, \n",
    "along with other advantages from lasso (i.e. few features\n",
    "are non zero). It's useful in data sets where multiple features are correlated\n",
    "with each other, and where there are more features than data points.\n",
    "2) ElasticNet works by introducing two regularizers - L1 and L2.\n",
    "This adds a quadratic element to the penalty.\n",
    "This is specified using a parameter called the l1_ratio (rho)\n",
    "3) \n",
    "\n",
    "'''"
   ]
  },
  {
   "cell_type": "code",
   "execution_count": 16,
   "metadata": {
    "collapsed": false
   },
   "outputs": [
    {
     "name": "stdout",
     "output_type": "stream",
     "text": [
      "RMSE (enet reg.) = 0.242253664949\n"
     ]
    }
   ],
   "source": [
    "# Setup the elastic net model\n",
    "from sklearn.linear_model import ElasticNet\n",
    "enet = ElasticNet(alpha=0.1, l1_ratio=0.7)\n",
    "enet.fit(X_train,y_train)\n",
    "preds2 = enet.predict(X_test)\n",
    "print('RMSE (enet reg.) =', np.sqrt(metrics.mean_squared_error(y_test, preds2)))\n",
    "\n",
    "\n"
   ]
  },
  {
   "cell_type": "code",
   "execution_count": 34,
   "metadata": {
    "collapsed": false
   },
   "outputs": [
    {
     "name": "stdout",
     "output_type": "stream",
     "text": [
      "{'alphas': array([  1.00000000e-03,   1.00000000e-02,   1.00000000e-01,\n",
      "         1.00000000e+00,   1.00000000e+01,   1.00000000e+02]), 'copy_X': True, 'cv': None, 'eps': 0.001, 'fit_intercept': True, 'l1_ratio': [0.1, 0.5, 0.7, 0.9, 0.95, 0.99, 1], 'max_iter': 1000, 'n_alphas': 100, 'n_jobs': 1, 'normalize': False, 'positive': False, 'precompute': 'auto', 'random_state': None, 'selection': 'cyclic', 'tol': 0.0001, 'verbose': 0}\n",
      "Optimal Alpha Value:  0.01\n",
      "Optimal l1_ratio Value:  0.5\n",
      "RMSE (enetcv reg.) = 0.160399788864\n"
     ]
    }
   ],
   "source": [
    "# Setting up a CV version of the elastic net model\n",
    "from sklearn.linear_model import ElasticNetCV\n",
    "# Specifying parameter ranges\n",
    "alpha_rangeEN = 10.**np.arange(-3, 3)\n",
    "# l1_ratio_rangeEN = 10.**np.arange(-6,1) \n",
    "l1_ratio_rangeEN = [.1, .5, .7, .9, .95, .99, 1] # provides a better result.\n",
    "enetcv = ElasticNetCV(alphas=alpha_rangeEN,l1_ratio=l1_ratio_rangeEN)\n",
    "print(enetcv.get_params())\n",
    "enetcv.fit(X_train,y_train)\n",
    "print('Optimal Alpha Value: ',enetcv.alpha_)\n",
    "print('Optimal l1_ratio Value: ',enetcv.l1_ratio_)\n",
    "preds3 = enetcv.predict(X_test)\n",
    "print('RMSE (enetcv reg.) =', np.sqrt(metrics.mean_squared_error(y_test, preds3)))"
   ]
  },
  {
   "cell_type": "markdown",
   "metadata": {
    "collapsed": true
   },
   "source": [
    "### Task 2: Carry out Regularised Regression\n",
    "\n",
    "1. Run all three forms of regularised regression on the Boston Housing DataSet\n",
    "2. What do the coefficients mean?\n",
    "3. What would you advise someone living in Boston to try and raise the value of their home?"
   ]
  },
  {
   "cell_type": "code",
   "execution_count": 42,
   "metadata": {
    "collapsed": false
   },
   "outputs": [
    {
     "name": "stdout",
     "output_type": "stream",
     "text": [
      "Lasso model:  -3.707 * LSTAT + 2.992 * RM + -1.757 * PTRATIO + -1.081 * DIS + -0.7 * NOX + 0.631 * B + 0.54 * CHAS + -0.236 * CRIM + 0.081 * ZN + -0.0 * INDUS + -0.0 * AGE + 0.0 * RAD + -0.0 * TAX\n",
      "Ridge model:  -2.723 * LSTAT + 2.68 * RM + -1.556 * PTRATIO + -1.368 * DIS + -0.752 * NOX + 0.743 * B + 0.726 * CHAS + -0.606 * CRIM + -0.528 * TAX + 0.516 * ZN + 0.462 * RAD + -0.443 * INDUS + -0.197 * AGE\n",
      "ElasticNet model:  0.049 * INDUS + -0.042 * CHAS + 0.0 * CRIM + 0.0 * ZN + -0.0 * NOX + 0.0 * RM + 0.0 * AGE + 0.0 * DIS + 0.0 * RAD + -0.0 * TAX + 0.0 * PTRATIO + 0.0 * B + -0.0 * LSTAT\n"
     ]
    },
    {
     "name": "stderr",
     "output_type": "stream",
     "text": [
      "/Applications/anaconda/lib/python3.6/site-packages/ipykernel/__main__.py:39: FutureWarning: comparison to `None` will result in an elementwise object comparison in the future.\n"
     ]
    }
   ],
   "source": [
    "from sklearn.linear_model import Lasso\n",
    "from sklearn.preprocessing import StandardScaler\n",
    "from sklearn.datasets import load_boston\n",
    "\n",
    "\n",
    "# GP - importing the data\n",
    "\n",
    "boston = load_boston()\n",
    "scaler = StandardScaler()\n",
    "X = scaler.fit_transform(boston[\"data\"]) # 13 features, 506 data points\n",
    "Y = boston[\"target\"]\n",
    "names = boston[\"feature_names\"]\n",
    "\n",
    "# GP - Lasso model\n",
    "\n",
    "lasso = Lasso(alpha=.3)\n",
    "lasso.fit(X, Y)\n",
    "\n",
    "# GP - LassoCV\n",
    "# from sklearn.linear_model import LassoCV\n",
    "# alpha_range = 10.**np.arange(-5, 3)\n",
    "# lascv = LassoCV(normalize=True, alphas=alpha_range)\n",
    "# lascv.fit(X, Y)\n",
    "# print('Optimal Alpha Value: ',lascv.alpha_)\n",
    "\n",
    "# GP - Ridge\n",
    "\n",
    "from sklearn.linear_model import Ridge\n",
    "rreg = Ridge(alpha=0.3, normalize=True)\n",
    "rreg.fit(X, Y)\n",
    "\n",
    "# GP - ElasticNet\n",
    "\n",
    "enet = ElasticNet(alpha=0.3, l1_ratio=0.1)\n",
    "enet.fit(X_train,y_train)\n",
    "\n",
    "#A helper method for pretty-printing linear models\n",
    "def pretty_print_linear(coefs, names = None, sort = False):\n",
    "    if names == None:\n",
    "        names = [\"X%s\" % x for x in range(len(coefs))]\n",
    "    lst = zip(coefs, names)\n",
    "    if sort:\n",
    "        lst = sorted(lst,  key = lambda x:-np.abs(x[0]))\n",
    "    return \" + \".join(\"%s * %s\" % (round(coef, 3), name)\n",
    "                                   for coef, name in lst)\n",
    "#Print all the model results\n",
    "\n",
    "print(\"Lasso model: \", pretty_print_linear(lasso.coef_, names, sort = True))\n",
    "print(\"Ridge model: \", pretty_print_linear(rreg.coef_, names, sort = True))\n",
    "print(\"ElasticNet model: \", pretty_print_linear(enet.coef_, names, sort = True))"
   ]
  },
  {
   "cell_type": "code",
   "execution_count": null,
   "metadata": {
    "collapsed": true
   },
   "outputs": [],
   "source": [
    "'''\n",
    "2)\n",
    "Definitions of features: https://archive.ics.uci.edu/ml/datasets/housing\n",
    "\n",
    "\n",
    "'''"
   ]
  },
  {
   "cell_type": "code",
   "execution_count": null,
   "metadata": {
    "collapsed": true
   },
   "outputs": [],
   "source": [
    "'''\n",
    "3)\n",
    "Recommendations\n",
    "Can't change some things like LSTAT - got to think of levers\n",
    "Can build more rooms.\n",
    "Can chose post codes with rich neighbours, high pupil to teacher ratio.\n",
    "\n",
    "'''"
   ]
  }
 ],
 "metadata": {
  "kernelspec": {
   "display_name": "Python 3",
   "language": "python",
   "name": "python3"
  },
  "language_info": {
   "codemirror_mode": {
    "name": "ipython",
    "version": 3
   },
   "file_extension": ".py",
   "mimetype": "text/x-python",
   "name": "python",
   "nbconvert_exporter": "python",
   "pygments_lexer": "ipython3",
   "version": "3.6.0"
  }
 },
 "nbformat": 4,
 "nbformat_minor": 0
}
