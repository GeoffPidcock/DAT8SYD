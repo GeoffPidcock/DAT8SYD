{
 "cells": [
  {
   "cell_type": "markdown",
   "metadata": {},
   "source": [
    "# Recommendation Engines - MovieLens Data\n",
    "\n",
    "## Tuesday June 20 2017\n",
    "\n",
    "MovieLens data sets were collected by the GroupLens Research Project at the University of Minnesota.\n",
    "\n",
    "This data set consists of: * 100,000 ratings (1-5) from 943 users on 1682 movies. * Each user has rated at least 20 movies. * Simple demographic info for the users (age, gender, occupation, zip)\n",
    "\n",
    "The data was collected through the MovieLens web site (movielens.umn.edu) during the seven-month period from September 19th, 1997 through April 22nd, 1998. This data has been cleaned up - users who had less than 20 ratings or did not have complete demographic information were removed from this data set. Detailed descriptions of the data file can be found at the end of this file.\n",
    "\n",
    "### Tasks\n",
    "\n",
    "1. Load the data into the recommendation format\n",
    "2. Build and assess model accuracy\n",
    "3. Make individual recommendations\n",
    "4. Try multiple models and compare accuracy\n",
    "5. Consider how a company could use this"
   ]
  },
  {
   "cell_type": "code",
   "execution_count": 2,
   "metadata": {
    "collapsed": false
   },
   "outputs": [
    {
     "name": "stdout",
     "output_type": "stream",
     "text": [
      "Collecting scikit-surprise\n",
      "  Using cached scikit-surprise-1.0.3.tar.gz\n",
      "Requirement already satisfied: numpy>=1.11.2 in /Applications/anaconda/lib/python3.6/site-packages (from scikit-surprise)\n",
      "Requirement already satisfied: six>=1.10.0 in /Applications/anaconda/lib/python3.6/site-packages (from scikit-surprise)\n",
      "Building wheels for collected packages: scikit-surprise\n",
      "  Running setup.py bdist_wheel for scikit-surprise ... \u001b[?25l-\b \b\\\b \b|\b \b/\b \b-\b \b\\\b \b|\b \b/\b \b-\b \b\\\b \b|\b \b/\b \bdone\n",
      "\u001b[?25h  Stored in directory: /Users/sfdcapacmarketing/Library/Caches/pip/wheels/5c/84/0c/21a872115299d7e2170620fc9fad866ec7588e958d9ac77b35\n",
      "Successfully built scikit-surprise\n",
      "Installing collected packages: scikit-surprise\n",
      "Successfully installed scikit-surprise-1.0.3\n"
     ]
    }
   ],
   "source": [
    "# Install Surpise - a useful library for recommendation engines\n",
    "!pip install scikit-surprise\n",
    "# GP - Visual C++ 2015 build tools may need to be installed to run this.\n",
    "# This is required on a PC."
   ]
  },
  {
   "cell_type": "code",
<<<<<<< HEAD
   "execution_count": 3,
=======
   "execution_count": 1,
>>>>>>> upstream/master
   "metadata": {
    "collapsed": true
   },
   "outputs": [],
   "source": [
    "# Load Surprise\n",
    "from surprise import SVD\n",
    "from surprise import Dataset\n",
    "from surprise import evaluate, print_perf\n",
    "from surprise import Reader"
   ]
  },
  {
   "cell_type": "code",
<<<<<<< HEAD
   "execution_count": 4,
=======
   "execution_count": 2,
>>>>>>> upstream/master
   "metadata": {
    "collapsed": false
   },
   "outputs": [],
   "source": [
    "# 1. Load the data into the recommendation format\n",
    "\n",
    "# As we're loading a custom dataset, we need to define a reader. In the\n",
    "# movielens dataset, each line has the following format:\n",
    "# 'user item rating timestamp', separated by '\\t' characters.\n",
    "reader = Reader(line_format='user item rating timestamp', sep='\\t')\n",
    "\n",
    "data = Dataset.load_from_file(file_path = '../../data/u.data', reader=reader)\n",
    "data.split(n_folds=5)"
   ]
  },
  {
   "cell_type": "code",
<<<<<<< HEAD
   "execution_count": 5,
=======
   "execution_count": 3,
>>>>>>> upstream/master
   "metadata": {
    "collapsed": false
   },
   "outputs": [
    {
     "name": "stdout",
     "output_type": "stream",
     "text": [
      "Evaluating RMSE, MAE of algorithm SVD.\n",
      "\n",
      "------------\n",
      "Fold 1\n",
<<<<<<< HEAD
      "RMSE: 0.9336\n",
      "MAE:  0.7351\n",
      "------------\n",
      "Fold 2\n",
      "RMSE: 0.9408\n",
      "MAE:  0.7410\n",
      "------------\n",
      "Fold 3\n",
      "RMSE: 0.9305\n",
      "MAE:  0.7337\n",
      "------------\n",
      "Fold 4\n",
      "RMSE: 0.9423\n",
      "MAE:  0.7444\n",
      "------------\n",
      "Fold 5\n",
      "RMSE: 0.9370\n",
      "MAE:  0.7392\n",
      "------------\n",
      "------------\n",
      "Mean RMSE: 0.9368\n",
      "Mean MAE : 0.7387\n",
      "------------\n",
      "------------\n",
      "        Fold 1  Fold 2  Fold 3  Fold 4  Fold 5  Mean    \n",
      "RMSE    0.9336  0.9408  0.9305  0.9423  0.9370  0.9368  \n",
      "MAE     0.7351  0.7410  0.7337  0.7444  0.7392  0.7387  \n"
=======
      "RMSE: 0.9314\n",
      "MAE:  0.7340\n",
      "------------\n",
      "Fold 2\n",
      "RMSE: 0.9365\n",
      "MAE:  0.7405\n",
      "------------\n",
      "Fold 3\n",
      "RMSE: 0.9377\n",
      "MAE:  0.7388\n",
      "------------\n",
      "Fold 4\n",
      "RMSE: 0.9339\n",
      "MAE:  0.7334\n",
      "------------\n",
      "Fold 5\n",
      "RMSE: 0.9472\n",
      "MAE:  0.7482\n",
      "------------\n",
      "------------\n",
      "Mean RMSE: 0.9373\n",
      "Mean MAE : 0.7390\n",
      "------------\n",
      "------------\n",
      "        Fold 1  Fold 2  Fold 3  Fold 4  Fold 5  Mean    \n",
      "RMSE    0.9314  0.9365  0.9377  0.9339  0.9472  0.9373  \n",
      "MAE     0.7340  0.7405  0.7388  0.7334  0.7482  0.7390  \n"
>>>>>>> upstream/master
     ]
    }
   ],
   "source": [
    "# 2. Build and assess model accuracy\n",
    "\n",
    "# We'll use the famous SVD algorithm.\n",
    "algo = SVD()\n",
    "\n",
    "# Evaluate performances of our algorithm on the dataset.\n",
    "perf = evaluate(algo, data, measures=['RMSE', 'MAE'])\n",
    "\n",
    "print_perf(perf)"
   ]
  },
  {
   "cell_type": "code",
   "execution_count": 9,
   "metadata": {
    "collapsed": false
   },
   "outputs": [
    {
     "name": "stdout",
     "output_type": "stream",
     "text": [
      "user: 196        item: 302        r_ui = 2.00   est = 4.28   {'was_impossible': False}\n"
     ]
    }
   ],
   "source": [
    "# 3. Make individual recommendations\n",
    "uid = str(196)  # raw user id (as in the ratings file). They are **strings**!\n",
    "iid = str(302)  # raw item id (as in the ratings file). They are **strings**!\n",
    "\n",
    "# get a prediction for specific users and items.\n",
    "pred = algo.predict(uid, iid, r_ui=2, verbose=True)\n",
    "# Gp - rating is a bit of a dummy parameter in this code - if you change it,\n",
    "# the prediction will remain the same - this user will rate this item 4.28"
   ]
  },
  {
   "cell_type": "code",
   "execution_count": 7,
   "metadata": {
    "collapsed": false
   },
   "outputs": [
    {
     "name": "stdout",
     "output_type": "stream",
     "text": [
      "Evaluating RMSE, MAE of algorithm NMF.\n",
      "\n",
      "------------\n",
      "Fold 1\n",
      "RMSE: 0.9592\n",
      "MAE:  0.7526\n",
      "------------\n",
      "Fold 2\n",
      "RMSE: 0.9627\n",
      "MAE:  0.7550\n",
      "------------\n",
      "Fold 3\n",
      "RMSE: 0.9552\n",
      "MAE:  0.7515\n",
      "------------\n",
      "Fold 4\n",
      "RMSE: 0.9702\n",
      "MAE:  0.7626\n",
      "------------\n",
      "Fold 5\n",
      "RMSE: 0.9650\n",
      "MAE:  0.7575\n",
      "------------\n",
      "------------\n",
      "Mean RMSE: 0.9624\n",
      "Mean MAE : 0.7558\n",
      "------------\n",
      "------------\n",
      "        Fold 1  Fold 2  Fold 3  Fold 4  Fold 5  Mean    \n",
      "RMSE    0.9592  0.9627  0.9552  0.9702  0.9650  0.9624  \n",
      "MAE     0.7526  0.7550  0.7515  0.7626  0.7575  0.7558  \n"
     ]
    }
   ],
   "source": [
    "# 4. Try multiple models and compare accuracy\n",
    "\n",
    "# Try at least 3 of the models mentioned below:\n",
    "#random_pred.NormalPredictor    Algorithm predicting a random rating based on the distribution of the training set, which is assumed to be normal.\n",
    "#baseline_only.BaselineOnly    Algorithm predicting the baseline estimate for given user and item.\n",
    "#knns.KNNBasic    A basic collaborative filtering algorithm.\n",
    "#knns.KNNWithMeans    A basic collaborative filtering algorithm, taking into account the mean ratings of each user.\n",
    "#knns.KNNBaseline    A basic collaborative filtering algorithm taking into account a baseline rating.\n",
    "#matrix_factorization.SVD    The famous SVD algorithm, as popularized by Simon Funk during the Netflix Prize.\n",
    "#matrix_factorization.SVDpp    The SVD++ algorithm, an extension of SVD taking into account implicit ratings.\n",
    "#matrix_factorization.NMF    A collaborative filtering algorithm based on Non-negative Matrix Factorization.\n",
    "#slope_one.SlopeOne    A simple yet accurate collaborative filtering algorithm.\n",
    "#co_clustering.CoClustering    A collaborative filtering algorithm based on co-clustering.\n",
    "\n",
    "\n",
    "# Here's how to run Non-Negative Matrix Factorisiation\n",
    "from surprise import NMF\n",
    "\n",
    "# Now we will try Non-Negative Matrix Factorisiation (a form of collaborative filtering)\n",
    "algo.NMF = NMF()\n",
    "\n",
    "# Evaluate performances of our algorithm on the dataset.\n",
    "perf.NMF = evaluate(algo.NMF, data, measures=['RMSE', 'MAE'])\n",
    "\n",
    "print_perf(perf.NMF)"
   ]
  },
  {
   "cell_type": "code",
<<<<<<< HEAD
   "execution_count": 16,
   "metadata": {
    "collapsed": false
   },
   "outputs": [
    {
     "name": "stdout",
     "output_type": "stream",
     "text": [
      "Evaluating RMSE, MAE of algorithm KNNWithMeans.\n",
      "\n",
      "------------\n",
      "Fold 1\n",
      "Computing the msd similarity matrix...\n",
      "Done computing similarity matrix.\n",
      "RMSE: 0.9463\n",
      "MAE:  0.7444\n",
      "------------\n",
      "Fold 2\n",
      "Computing the msd similarity matrix...\n",
      "Done computing similarity matrix.\n",
      "RMSE: 0.9535\n",
      "MAE:  0.7493\n",
      "------------\n",
      "Fold 3\n",
      "Computing the msd similarity matrix...\n",
      "Done computing similarity matrix.\n",
      "RMSE: 0.9430\n",
      "MAE:  0.7451\n",
      "------------\n",
      "Fold 4\n",
      "Computing the msd similarity matrix...\n",
      "Done computing similarity matrix.\n",
      "RMSE: 0.9566\n",
      "MAE:  0.7542\n",
      "------------\n",
      "Fold 5\n",
      "Computing the msd similarity matrix...\n",
      "Done computing similarity matrix.\n",
      "RMSE: 0.9551\n",
      "MAE:  0.7522\n",
      "------------\n",
      "------------\n",
      "Mean RMSE: 0.9509\n",
      "Mean MAE : 0.7490\n",
      "------------\n",
      "------------\n",
      "        Fold 1  Fold 2  Fold 3  Fold 4  Fold 5  Mean    \n",
      "RMSE    0.9463  0.9535  0.9430  0.9566  0.9551  0.9509  \n",
      "MAE     0.7444  0.7493  0.7451  0.7542  0.7522  0.7490  \n"
     ]
    }
   ],
   "source": [
    "#knns.KNNWithMeans\n",
    "# http://surprise.readthedocs.io/en/stable/knn_inspired.html?highlight=knns.KNNWithMeans\n",
    "# Collaborative filtering algorithm taking into account mean rating of each user.\n",
    "# If there are not enough neighbours - prediction equivalent to means\n",
    "from surprise import KNNWithMeans as KNNMns\n",
    "algo2 = KNNMns()\n",
    "perf = evaluate(algo2, data, measures = ['RMSE','MAE'])\n",
    "print_perf(perf)\n"
   ]
  },
  {
   "cell_type": "code",
   "execution_count": 17,
   "metadata": {
    "collapsed": false
   },
   "outputs": [
    {
     "name": "stdout",
     "output_type": "stream",
     "text": [
      "user: 196        item: 302        r_ui = 2.00   est = 4.13   {'actual_k': 40, 'was_impossible': False}\n"
     ]
    }
   ],
   "source": [
    "pred = algo2.predict(uid, iid, r_ui=2, verbose=True)\n",
    "# Prediction is lower. "
   ]
  },
  {
   "cell_type": "code",
   "execution_count": 18,
   "metadata": {
    "collapsed": false
   },
   "outputs": [
    {
     "name": "stdout",
     "output_type": "stream",
     "text": [
      "Evaluating RMSE, MAE of algorithm SlopeOne.\n",
      "\n",
      "------------\n",
      "Fold 1\n",
      "RMSE: 0.9410\n",
      "MAE:  0.7387\n",
      "------------\n",
      "Fold 2\n",
      "RMSE: 0.9485\n",
      "MAE:  0.7445\n",
      "------------\n",
      "Fold 3\n",
      "RMSE: 0.9378\n",
      "MAE:  0.7377\n",
      "------------\n",
      "Fold 4\n",
      "RMSE: 0.9510\n",
      "MAE:  0.7480\n",
      "------------\n",
      "Fold 5\n",
      "RMSE: 0.9450\n",
      "MAE:  0.7435\n",
      "------------\n",
      "------------\n",
      "Mean RMSE: 0.9447\n",
      "Mean MAE : 0.7425\n",
      "------------\n",
      "------------\n",
      "        Fold 1  Fold 2  Fold 3  Fold 4  Fold 5  Mean    \n",
      "RMSE    0.9410  0.9485  0.9378  0.9510  0.9450  0.9447  \n",
      "MAE     0.7387  0.7445  0.7377  0.7480  0.7435  0.7425  \n"
     ]
    }
   ],
   "source": [
    "# slope_one.SlopeOne  \n",
    "# http://surprise.readthedocs.io/en/stable/slope_one.html#surprise.prediction_algorithms.slope_one.SlopeOne\n",
    "# Another collaborative filtering algorithm\n",
    "# This figure explains it well - https://arxiv.org/pdf/cs/0702144.pdf\n",
    "# User A’s ratings of two items and User B’s rating of a common item is \n",
    "# used to predict User B’s unknown rating.\n",
    "\n",
    "from surprise import SlopeOne as SO\n",
    "algo3 = SO()\n",
    "perf = evaluate(algo3, data, measures = ['RMSE','MAE'])\n",
    "print_perf(perf)\n"
   ]
  },
  {
   "cell_type": "code",
   "execution_count": 19,
   "metadata": {
    "collapsed": false
   },
   "outputs": [
    {
     "name": "stdout",
     "output_type": "stream",
     "text": [
      "user: 196        item: 302        r_ui = 2.00   est = 4.32   {'was_impossible': False}\n"
     ]
    }
   ],
   "source": [
    "pred = algo3.predict(uid, iid, r_ui=2, verbose=True)\n",
    "# Prediction is lower. "
   ]
  },
  {
   "cell_type": "code",
   "execution_count": 20,
=======
   "execution_count": 4,
>>>>>>> upstream/master
   "metadata": {
    "collapsed": false
   },
   "outputs": [
    {
     "name": "stdout",
     "output_type": "stream",
     "text": [
      "Evaluating RMSE, MAE of algorithm NormalPredictor.\n",
      "\n",
      "------------\n",
      "Fold 1\n",
<<<<<<< HEAD
      "RMSE: 1.5252\n",
      "MAE:  1.2232\n",
      "------------\n",
      "Fold 2\n",
      "RMSE: 1.5386\n",
      "MAE:  1.2333\n",
      "------------\n",
      "Fold 3\n",
      "RMSE: 1.5288\n",
      "MAE:  1.2257\n",
      "------------\n",
      "Fold 4\n",
      "RMSE: 1.5190\n",
      "MAE:  1.2191\n",
      "------------\n",
      "Fold 5\n",
      "RMSE: 1.5249\n",
      "MAE:  1.2246\n",
      "------------\n",
      "------------\n",
      "Mean RMSE: 1.5273\n",
      "Mean MAE : 1.2252\n",
      "------------\n",
      "------------\n",
      "        Fold 1  Fold 2  Fold 3  Fold 4  Fold 5  Mean    \n",
      "RMSE    1.5252  1.5386  1.5288  1.5190  1.5249  1.5273  \n",
      "MAE     1.2232  1.2333  1.2257  1.2191  1.2246  1.2252  \n"
     ]
    }
   ],
   "source": [
    "#random_pred.NormalPredictor\n",
    "from surprise import NormalPredictor as NP\n",
    "algo4 = NP()\n",
    "perf = evaluate(algo4, data, measures = ['RMSE','MAE'])\n",
    "print_perf(perf)"
   ]
  },
  {
   "cell_type": "code",
   "execution_count": 21,
   "metadata": {
    "collapsed": false
   },
   "outputs": [
    {
     "name": "stdout",
     "output_type": "stream",
     "text": [
      "user: 196        item: 302        r_ui = 2.00   est = 1.20   {'was_impossible': False}\n"
     ]
    }
   ],
   "source": [
    "pred = algo4.predict(uid, iid, r_ui=2, verbose=True)\n",
    "# This is an example of an AWEFUL model. "
   ]
  },
  {
   "cell_type": "code",
   "execution_count": 22,
   "metadata": {
    "collapsed": false
   },
   "outputs": [
    {
     "name": "stdout",
     "output_type": "stream",
     "text": [
      "Evaluating RMSE, MAE of algorithm BaselineOnly.\n",
      "\n",
      "------------\n",
      "Fold 1\n",
      "Estimating biases using als...\n",
      "RMSE: 0.9413\n",
      "MAE:  0.7454\n",
      "------------\n",
      "Fold 2\n",
      "Estimating biases using als...\n",
      "RMSE: 0.9486\n",
      "MAE:  0.7511\n",
      "------------\n",
      "Fold 3\n",
      "Estimating biases using als...\n",
      "RMSE: 0.9386\n",
      "MAE:  0.7443\n",
      "------------\n",
      "Fold 4\n",
      "Estimating biases using als...\n",
      "RMSE: 0.9481\n",
      "MAE:  0.7519\n",
      "------------\n",
      "Fold 5\n",
      "Estimating biases using als...\n",
      "RMSE: 0.9439\n",
      "MAE:  0.7492\n",
      "------------\n",
      "------------\n",
      "Mean RMSE: 0.9441\n",
      "Mean MAE : 0.7484\n",
      "------------\n",
      "------------\n",
      "        Fold 1  Fold 2  Fold 3  Fold 4  Fold 5  Mean    \n",
      "RMSE    0.9413  0.9486  0.9386  0.9481  0.9439  0.9441  \n",
      "MAE     0.7454  0.7511  0.7443  0.7519  0.7492  0.7484  \n"
=======
      "RMSE: 1.5245\n",
      "MAE:  1.2238\n",
      "------------\n",
      "Fold 2\n",
      "RMSE: 1.5234\n",
      "MAE:  1.2246\n",
      "------------\n",
      "Fold 3\n",
      "RMSE: 1.5181\n",
      "MAE:  1.2198\n",
      "------------\n",
      "Fold 4\n",
      "RMSE: 1.5143\n",
      "MAE:  1.2192\n",
      "------------\n",
      "Fold 5\n",
      "RMSE: 1.5253\n",
      "MAE:  1.2249\n",
      "------------\n",
      "------------\n",
      "Mean RMSE: 1.5211\n",
      "Mean MAE : 1.2224\n",
      "------------\n",
      "------------\n",
      "        Fold 1  Fold 2  Fold 3  Fold 4  Fold 5  Mean    \n",
      "RMSE    1.5245  1.5234  1.5181  1.5143  1.5253  1.5211  \n",
      "MAE     1.2238  1.2246  1.2198  1.2192  1.2249  1.2224  \n"
>>>>>>> upstream/master
     ]
    }
   ],
   "source": [
<<<<<<< HEAD
    "#baseline_only.BaselineOnly    \n",
    "# Algorithm predicting the baseline estimate for given user and item.\n",
    "from surprise import BaselineOnly as BO\n",
    "algo5 = BO()\n",
    "perf = evaluate(algo5, data, measures = ['RMSE','MAE'])\n",
    "print_perf(perf)"
   ]
  },
  {
   "cell_type": "markdown",
   "metadata": {},
   "source": [
    "**Note of the models tried, only SVD beat the baseline model**"
=======
    "# Here's how to run Non-Negative Matrix Factorisiation\n",
    "from surprise import NormalPredictor\n",
    "\n",
    "# Now we will try Non-Negative Matrix Factorisiation (a form of collaborative filtering)\n",
    "algo.NormalPredictor = NormalPredictor()\n",
    "\n",
    "# Evaluate performances of our algorithm on the dataset.\n",
    "perf.NormalPredictor = evaluate(algo.NormalPredictor, data, measures=['RMSE', 'MAE'])\n",
    "\n",
    "print_perf(perf.NormalPredictor)"
>>>>>>> upstream/master
   ]
  },
  {
   "cell_type": "markdown",
   "metadata": {},
   "source": [
    "##### 5. Consider how a company could use this\n",
    "\n",
    "How might a company use a recommendation like this in practice? Write a few paragraphs covering how they could use the above covering:\n",
    "- How the algorithm works?\n",
    "- What data would be used?\n",
    "- How would we know if it's working?\n",
    "- What is the benefit of using an algorithm over this over just recommending the most popular films overall?"
   ]
  },
  {
   "cell_type": "markdown",
   "metadata": {},
   "source": [
    "HOW WOULD WE KNOW IT'S WORKING - RMSE... \n",
    "WHAT IS THE BENEFIT - "
   ]
  }
 ],
 "metadata": {
  "kernelspec": {
   "display_name": "Python 3",
   "language": "python",
   "name": "python3"
  },
  "language_info": {
   "codemirror_mode": {
    "name": "ipython",
    "version": 3
   },
   "file_extension": ".py",
   "mimetype": "text/x-python",
   "name": "python",
   "nbconvert_exporter": "python",
   "pygments_lexer": "ipython3",
   "version": "3.6.0"
  }
 },
 "nbformat": 4,
 "nbformat_minor": 0
}
