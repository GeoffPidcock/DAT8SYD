{
 "cells": [
  {
   "cell_type": "markdown",
   "metadata": {},
   "source": [
    "# Titanic Model Training, Testing, and Validation"
   ]
  },
  {
   "cell_type": "markdown",
   "metadata": {},
   "source": [
    "## Training\n",
    "### Importing and wrangling data"
   ]
  },
  {
   "cell_type": "code",
   "execution_count": 20,
   "metadata": {
    "collapsed": false
   },
   "outputs": [
    {
     "data": {
      "text/plain": [
       "array(['Survived', 'Pclass', 'Name', 'Sex', 'Age', 'SibSp', 'Parch',\n",
       "       'Ticket', 'Fare', 'Cabin', 'Embarked'], dtype=object)"
      ]
     },
     "execution_count": 20,
     "metadata": {},
     "output_type": "execute_result"
    }
   ],
   "source": [
    "# Import and wrangle data\n",
    "import pandas as pd\n",
    "titanic = pd.read_csv('train.csv',index_col='PassengerId')\n",
    "# titanic.isnull().sum() # Age has 177 null values, Cabin 687, Embarked 2\n",
    "titanic.columns.values"
   ]
  },
  {
   "cell_type": "code",
   "execution_count": 53,
   "metadata": {
    "collapsed": false
   },
   "outputs": [
    {
     "data": {
      "text/plain": [
       "array(['S', 'C', 'Q', nan], dtype=object)"
      ]
     },
     "execution_count": 53,
     "metadata": {},
     "output_type": "execute_result"
    }
   ],
   "source": [
    "# Look at values and distributions of categorical features\n",
    "# titanic.groupby('Pclass')['Name'].count() # values 1,2,3\n",
    "# titanic.groupby('SibSp')['Name'].count() # values 0 to 8\n",
    "# titanic.groupby('Parch')['Name'].count() # values 0 to 6\n",
    "# titanic.groupby('Sex')['Name'].count() # values female and male\n",
    "titanic.Embarked.unique()\n",
    "# Age, Fare, continuous variables.\n",
    "# titanic.Cabin.unique().shape #148 unique values for cabin. 687 nulls!"
   ]
  },
  {
   "cell_type": "code",
   "execution_count": 55,
   "metadata": {
    "collapsed": false
   },
   "outputs": [
    {
     "data": {
      "text/plain": [
       "array(['Survived', 'Name', 'Age', 'Ticket', 'Fare', 'Cabin', 'Sex_female',\n",
       "       'Sex_male', 'Embarked_C', 'Embarked_Q', 'Embarked_S', 'Pclass_1',\n",
       "       'Pclass_2', 'Pclass_3', 'Parch_0', 'Parch_1', 'Parch_2', 'Parch_3',\n",
       "       'Parch_4', 'Parch_5', 'Parch_6', 'SibSp_0', 'SibSp_1', 'SibSp_2',\n",
       "       'SibSp_3', 'SibSp_4', 'SibSp_5', 'SibSp_8'], dtype=object)"
      ]
     },
     "execution_count": 55,
     "metadata": {},
     "output_type": "execute_result"
    }
   ],
   "source": [
    "# Hypothesis - siblings and spouses, parents and children, gender, class,\n",
    "# age should hold information towards survival.\n",
    "\n",
    "# Assign dummies for Pclass, SibSp, Parch, Sex, Embarked\n",
    "\n",
    "titanic_wdum = pd.get_dummies(data=titanic, columns = ['Sex', 'Embarked', 'Pclass', 'Parch', 'SibSp'], prefix = ['Sex', 'Embarked', 'Pclass', 'Parch', 'SibSp'] )\n",
    "titanic_wdum.columns.values"
   ]
  },
  {
   "cell_type": "code",
   "execution_count": 63,
   "metadata": {
    "collapsed": false
   },
   "outputs": [
    {
     "name": "stdout",
     "output_type": "stream",
     "text": [
      "0 177\n"
     ]
    }
   ],
   "source": [
    "# Fill 177 null values for Age\n",
    "\n",
    "# titanic_wdum['Age'] = titanic_wdum[['Age','Parch_0','Parch_1','Parch_2','Parch_3','Parch_4','Parch_5','Sex_male','Pclass_1', 'Pclass_2','Embarked_C','Embarked_Q','SibSp_0','SibSp_1','SibSp_2','SibSp_3','SibSp_4','SibSp_5']].groupby(['Age','Parch_0','Parch_1','Parch_2','Parch_3','Parch_4','Parch_5','Sex_male','Pclass_1', 'Pclass_2','Embarked_C','Embarked_Q','SibSp_0','SibSp_1','SibSp_2','SibSp_3','SibSp_4','SibSp_5'])['Age'].transform(lambda x: x.fillna(x.mean()))\n",
    "# That doesn't seem to work - too much grouping in applying the averages?\n",
    "# Another alternative - just fill with global average?\n",
    "titanic_wdum.Age.fillna(titanic.Age.mean(), inplace=True)\n",
    "print(titanic_wdum.Age.isnull().sum(),titanic.Age.isnull().sum())\n",
    "\n",
    "# If needed - can explore imputation."
   ]
  },
  {
   "cell_type": "markdown",
   "metadata": {},
   "source": [
    "### Model Selection"
   ]
  },
  {
   "cell_type": "code",
   "execution_count": null,
   "metadata": {
    "collapsed": true
   },
   "outputs": [],
   "source": [
    "# Regularization and Logistic Regression???"
   ]
  }
 ],
 "metadata": {
  "kernelspec": {
   "display_name": "Python 3",
   "language": "python",
   "name": "python3"
  },
  "language_info": {
   "codemirror_mode": {
    "name": "ipython",
    "version": 3
   },
   "file_extension": ".py",
   "mimetype": "text/x-python",
   "name": "python",
   "nbconvert_exporter": "python",
   "pygments_lexer": "ipython3",
   "version": "3.6.0"
  }
 },
 "nbformat": 4,
 "nbformat_minor": 2
}
